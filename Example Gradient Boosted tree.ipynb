{
 "cells": [
  {
   "cell_type": "code",
   "execution_count": 22,
   "metadata": {
    "collapsed": false
   },
   "outputs": [
    {
     "data": {
      "text/plain": [
       "[<matplotlib.lines.Line2D at 0x7f04b6aeaf90>,\n",
       " <matplotlib.lines.Line2D at 0x7f04b6af9210>]"
      ]
     },
     "execution_count": 22,
     "metadata": {},
     "output_type": "execute_result"
    },
    {
     "data": {
      "image/png": "[encoded data removed]",
      "text/plain": [
       "<matplotlib.figure.Figure at 0x7f04b6bf0350>"
      ]
     },
     "metadata": {},
     "output_type": "display_data"
    }
   ],
   "source": [
    "# Simple gradient boosted tree model\n",
    "\n",
    "import numpy as np\n",
    "import matplotlib.pyplot as plt\n",
    "import matplotlib as mpl\n",
    "from sklearn import tree\n",
    "mpl.style.available\n",
    "mpl.style.use('ggplot')\n",
    "%matplotlib inline\n",
    "\n",
    "# Generate sine curve with some noise\n",
    "rng = np.random.RandomState(1)\n",
    "X = np.sort(5 * rng.rand(80, 1), axis=0)\n",
    "Y = np.sin(X).ravel()\n",
    "Y[::5] += 3 * (0.5 - rng.rand(16))\n",
    "\n",
    "\n",
    "# Subtract mean\n",
    "mu = np.mean(Y)\n",
    "Y=Y-mu\n",
    "\n",
    "def take_step(nb_steps,learn_rate=1,learn_decay=0):\n",
    "    predict = np.zeros(len(Y))\n",
    "    # Y_it are the residuals at given iteration\n",
    "    Y_it = Y\n",
    "    for k in range(nb_steps):\n",
    "        # Calculate new learning rate at each step\n",
    "        alpha=learn_rate*np.exp(-learn_decay*k)\n",
    "        # Fit a simple tree to the residuals\n",
    "        reg=tree.DecisionTreeRegressor(min_samples_split=10,max_depth=1,max_leaf_nodes=2)\n",
    "        reg.fit(X,Y_it)\n",
    "        res_pred=reg.predict(X)\n",
    "        # Calculates the new residuals\n",
    "        Y_it = Y_it - alpha*res_pred\n",
    "        # Add prediction of residuals to overall prediction\n",
    "        predict += alpha*res_pred\n",
    "\n",
    "    return predict\n",
    "\n",
    "Y_gradient_boosted = take_step(100,learn_rate=0.5,learn_decay=0.01)\n",
    "\n",
    "plt.plot(X,Y,'o',X,Y_gradient_boosted,'-') "
   ]
  },
  {
   "cell_type": "code",
   "execution_count": null,
   "metadata": {
    "collapsed": true
   },
   "outputs": [],
   "source": []
  }
 ],
 "metadata": {
  "kernelspec": {
   "display_name": "Python 2",
   "language": "python",
   "name": "python2"
  },
  "language_info": {
   "codemirror_mode": {
    "name": "ipython",
    "version": 2
   },
   "file_extension": ".py",
   "mimetype": "text/x-python",
   "name": "python",
   "nbconvert_exporter": "python",
   "pygments_lexer": "ipython2",
   "version": "2.7.10"
  }
 },
 "nbformat": 4,
 "nbformat_minor": 0
}
